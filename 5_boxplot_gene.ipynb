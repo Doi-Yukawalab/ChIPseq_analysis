{
 "cells": [
  {
   "cell_type": "markdown",
   "id": "14ad6600-2467-4f8b-92e2-1d6e029ec525",
   "metadata": {},
   "source": [
    "## 遺伝子名からバープロットを作成する"
   ]
  },
  {
   "cell_type": "markdown",
   "id": "df8d8252-ef51-42aa-8fdf-c54404985403",
   "metadata": {},
   "source": [
    "Rを使用してボックスプロットを作図する。  \n",
    "使用するデータは2_deeptoolsで作成したSRR*.txtファイルである。    \n",
    "このファイルには各遺伝子IDごと（バリアントも別に表示されている）にシグナルの分布が行列形式で計算されたものである。  \n",
    "300行にデータが分割されているため、各列でデータを足し上げる（=SUM_score)。  \n",
    "遺伝子名を入力し、遺伝子iDに変換して抽出し、バープロットを作成する。る。"
   ]
  },
  {
   "cell_type": "markdown",
   "id": "bb14c1ca-5e82-4a02-99e7-91520ae6cde1",
   "metadata": {},
   "source": [
    "### 1つの遺伝子名についてのバープロット"
   ]
  },
  {
   "cell_type": "code",
   "execution_count": 80,
   "id": "423a4f88-64bf-41df-b6c3-0ab529eac459",
   "metadata": {},
   "outputs": [],
   "source": [
    "# ヘッダー行がない場合のデータの読み込み\n",
    "data <- read.table(\"/home/inou_doi/demo/2_igv/SRR7475873.txt\", header = FALSE, sep = \"\\t\", fill = TRUE)"
   ]
  },
  {
   "cell_type": "code",
   "execution_count": 81,
   "id": "89c18d25-1d77-4778-999c-196e44712eff",
   "metadata": {},
   "outputs": [],
   "source": [
    "# 一行目を削除する\n",
    "data <- data[-1, ]"
   ]
  },
  {
   "cell_type": "code",
   "execution_count": 82,
   "id": "a9026f00-4961-42c6-b8ba-42f84d6c73ff",
   "metadata": {},
   "outputs": [],
   "source": [
    "# 列名を定義する\n",
    "colnames(data) <- c(\"chr\", \"start\", \"stop\", \"name\", \"period\", \"plus\", paste0(\"data_\", 1:300))"
   ]
  },
  {
   "cell_type": "code",
   "execution_count": 83,
   "id": "cc33b534-fccf-4d63-95bd-fa03d3e36c3a",
   "metadata": {},
   "outputs": [],
   "source": [
    "# \"nan\"を0に置き換える\n",
    "data[data == \"nan\"] <- 0"
   ]
  },
  {
   "cell_type": "code",
   "execution_count": 84,
   "id": "764b7805-4af2-48c9-95f8-48a5aaaea190",
   "metadata": {},
   "outputs": [],
   "source": [
    "# SUM_scoreをデータフレームに追加する\n",
    "sum_score <- rowSums(data[ , 7:ncol(data)])\n",
    "data$SUM_score <- sum_score"
   ]
  },
  {
   "cell_type": "code",
   "execution_count": 85,
   "id": "fcd90232-43dd-4228-a037-7955745360a8",
   "metadata": {},
   "outputs": [],
   "source": [
    "# ファイルを保存する\n",
    "write.table(data, \"/home/inou_doi/demo/2_igv/SRR7475873_modified.txt\", sep = \"\\t\", row.names = FALSE, col.names = TRUE)"
   ]
  },
  {
   "cell_type": "code",
   "execution_count": 88,
   "id": "32915b7f-82ca-4bc8-998c-432558280284",
   "metadata": {},
   "outputs": [],
   "source": [
    "# 修正したファイルを読み込む\n",
    "modified_data <- read.table(\"/home/inou_doi/demo/2_igv/SRR7475873_modified.txt\", header = TRUE, sep = \"\\t\")"
   ]
  },
  {
   "cell_type": "code",
   "execution_count": 89,
   "id": "33eb2fce-0ae9-48fa-a8b8-59df06b028c6",
   "metadata": {},
   "outputs": [],
   "source": [
    "# 指定された列のみを抽出する\n",
    "selected_columns <- modified_data[, c(\"chr\", \"start\", \"end\", \"name\", \"period\", \"plus\", \"SUM_score\")]"
   ]
  },
  {
   "cell_type": "code",
   "execution_count": 90,
   "id": "e9995b43-5c10-466f-89c8-6e51c0a8b4c2",
   "metadata": {},
   "outputs": [],
   "source": [
    "# 新しいファイルに保存する\n",
    "write.table(selected_columns, \"/home/inou_doi/demo/2_igv/SRR7475873_selected_columns.txt\", sep = \"\\t\", row.names = FALSE, col.names = TRUE)"
   ]
  },
  {
   "cell_type": "markdown",
   "id": "c00505e4-b152-4a6e-a0b2-ab19fd511087",
   "metadata": {},
   "source": [
    "SUM_scoreが書かれたファイルに関して、遺伝子名(CD82)で探して、バープロットを行う。"
   ]
  },
  {
   "cell_type": "code",
   "execution_count": 123,
   "id": "bae51ce8-01f9-46d1-a597-e2e301ae310b",
   "metadata": {
    "scrolled": true
   },
   "outputs": [
    {
     "name": "stderr",
     "output_type": "stream",
     "text": [
      "'getOption(\"repos\")' replaces Bioconductor standard repositories, see\n",
      "'help(\"repositories\", package = \"BiocManager\")' for details.\n",
      "Replacement repositories:\n",
      "    CRAN: https://cran.r-project.org\n",
      "\n",
      "Bioconductor version 3.18 (BiocManager 1.30.25), R 4.3.2 (2023-10-31)\n",
      "\n",
      "Warning message:\n",
      "“package(s) not installed when version(s) same as or greater than current; use\n",
      "  `force = TRUE` to re-install: 'AnnotationDbi'”\n",
      "Old packages: 'abind', 'amap', 'ape', 'aplot', 'askpass', 'backports',\n",
      "  'bdsmatrix', 'BiocFileCache', 'biomaRt', 'Biostrings', 'bit', 'bit64',\n",
      "  'bitops', 'boot', 'broom', 'BSgenome', 'bslib', 'cachem', 'callr', 'caTools',\n",
      "  'ChIPpeakAnno', 'circlize', 'cli', 'clock', 'clusterProfiler', 'coda',\n",
      "  'codetools', 'colorspace', 'commonmark', 'cpp11', 'crayon', 'crul', 'curl',\n",
      "  'data.table', 'DBI', 'dbplyr', 'deldir', 'DESeq2', 'digest', 'DOSE', 'DT',\n",
      "  'e1071', 'evaluate', 'farver', 'fastmap', 'fontawesome', 'foreign', 'fs',\n",
      "  'future', 'future.apply', 'GenomeInfoDb', 'GenomicAlignments',\n",
      "  'GenomicFeatures', 'ggforce', 'ggfun', 'ggnewscale', 'ggraph', 'ggrepel',\n",
      "  'ggtree', 'ggupset', 'globals', 'glue', 'GOSemSim', 'gplots', 'graphlayouts',\n",
      "  'gtable', 'hardhat', 'hexbin', 'highr', 'htmltools', 'httpuv', 'igraph',\n",
      "  'interp', 'ipred', 'jsonlite', 'KernSmooth', 'knitr', 'later', 'lattice',\n",
      "  'lava', 'listenv', 'locfit', 'maps', 'matrixStats', 'munsell', 'mvtnorm',\n",
      "  'nlme', 'openssl', 'parallelly', 'patchwork', 'pbdZMQ', 'polyclip',\n",
      "  'processx', 'prodlim', 'progressr', 'promises', 'ps', 'quantmod', 'ragg',\n",
      "  'randomForest', 'Rcpp', 'RcppArmadillo', 'RcppEigen', 'RCurl', 'recipes',\n",
      "  'repr', 'reprex', 'Rhtslib', 'rjson', 'rlang', 'rmarkdown', 'RSQLite',\n",
      "  'rstudioapi', 'rvest', 'S4Arrays', 'sass', 'scatterpie', 'shadowtext',\n",
      "  'shape', 'shiny', 'SparseArray', 'stringi', 'survival', 'sys', 'systemfonts',\n",
      "  'textshaping', 'tidygraph', 'tidyr', 'tidyselect', 'timeDate', 'tinytex',\n",
      "  'tweenr', 'uuid', 'viridis', 'withr', 'xfun', 'XML', 'xts', 'yaml',\n",
      "  'yulab.utils', 'zlibbioc'\n",
      "\n",
      "'getOption(\"repos\")' replaces Bioconductor standard repositories, see\n",
      "'help(\"repositories\", package = \"BiocManager\")' for details.\n",
      "Replacement repositories:\n",
      "    CRAN: https://cran.r-project.org\n",
      "\n",
      "Bioconductor version 3.18 (BiocManager 1.30.25), R 4.3.2 (2023-10-31)\n",
      "\n",
      "Warning message:\n",
      "“package(s) not installed when version(s) same as or greater than current; use\n",
      "  `force = TRUE` to re-install: 'org.Hs.eg.db'”\n",
      "Old packages: 'abind', 'amap', 'ape', 'aplot', 'askpass', 'backports',\n",
      "  'bdsmatrix', 'BiocFileCache', 'biomaRt', 'Biostrings', 'bit', 'bit64',\n",
      "  'bitops', 'boot', 'broom', 'BSgenome', 'bslib', 'cachem', 'callr', 'caTools',\n",
      "  'ChIPpeakAnno', 'circlize', 'cli', 'clock', 'clusterProfiler', 'coda',\n",
      "  'codetools', 'colorspace', 'commonmark', 'cpp11', 'crayon', 'crul', 'curl',\n",
      "  'data.table', 'DBI', 'dbplyr', 'deldir', 'DESeq2', 'digest', 'DOSE', 'DT',\n",
      "  'e1071', 'evaluate', 'farver', 'fastmap', 'fontawesome', 'foreign', 'fs',\n",
      "  'future', 'future.apply', 'GenomeInfoDb', 'GenomicAlignments',\n",
      "  'GenomicFeatures', 'ggforce', 'ggfun', 'ggnewscale', 'ggraph', 'ggrepel',\n",
      "  'ggtree', 'ggupset', 'globals', 'glue', 'GOSemSim', 'gplots', 'graphlayouts',\n",
      "  'gtable', 'hardhat', 'hexbin', 'highr', 'htmltools', 'httpuv', 'igraph',\n",
      "  'interp', 'ipred', 'jsonlite', 'KernSmooth', 'knitr', 'later', 'lattice',\n",
      "  'lava', 'listenv', 'locfit', 'maps', 'matrixStats', 'munsell', 'mvtnorm',\n",
      "  'nlme', 'openssl', 'parallelly', 'patchwork', 'pbdZMQ', 'polyclip',\n",
      "  'processx', 'prodlim', 'progressr', 'promises', 'ps', 'quantmod', 'ragg',\n",
      "  'randomForest', 'Rcpp', 'RcppArmadillo', 'RcppEigen', 'RCurl', 'recipes',\n",
      "  'repr', 'reprex', 'Rhtslib', 'rjson', 'rlang', 'rmarkdown', 'RSQLite',\n",
      "  'rstudioapi', 'rvest', 'S4Arrays', 'sass', 'scatterpie', 'shadowtext',\n",
      "  'shape', 'shiny', 'SparseArray', 'stringi', 'survival', 'sys', 'systemfonts',\n",
      "  'textshaping', 'tidygraph', 'tidyr', 'tidyselect', 'timeDate', 'tinytex',\n",
      "  'tweenr', 'uuid', 'viridis', 'withr', 'xfun', 'XML', 'xts', 'yaml',\n",
      "  'yulab.utils', 'zlibbioc'\n",
      "\n",
      "Loading required package: Biobase\n",
      "\n",
      "Welcome to Bioconductor\n",
      "\n",
      "    Vignettes contain introductory material; view with\n",
      "    'browseVignettes()'. To cite Bioconductor, see\n",
      "    'citation(\"Biobase\")', and for packages 'citation(\"pkgname\")'.\n",
      "\n",
      "\n",
      "\n",
      "\n"
     ]
    }
   ],
   "source": [
    "# 必要なパッケージをインストール\n",
    "if (!requireNamespace(\"BiocManager\", quietly = TRUE))\n",
    "    install.packages(\"BiocManager\")\n",
    "BiocManager::install(\"AnnotationDbi\")\n",
    "BiocManager::install(\"org.Hs.eg.db\")  # ヒトの遺伝子データベース\n"
   ]
  },
  {
   "cell_type": "code",
   "execution_count": 159,
   "id": "cecb7ae4-6bb8-4099-98eb-236db337e8c2",
   "metadata": {},
   "outputs": [
    {
     "name": "stderr",
     "output_type": "stream",
     "text": [
      "Updating HTML index of packages in '.Library'\n",
      "\n",
      "Making 'packages.html' ...\n",
      " done\n",
      "\n"
     ]
    }
   ],
   "source": [
    "# ggplot2パッケージをインストール\n",
    "install.packages(\"ggplot2\")"
   ]
  },
  {
   "cell_type": "code",
   "execution_count": 160,
   "id": "ad98be75-efa2-4c96-aaa2-6b6e977fe5f1",
   "metadata": {},
   "outputs": [],
   "source": [
    "# パッケージを読み込み\n",
    "library(AnnotationDbi)\n",
    "library(org.Hs.eg.db)\n",
    "library(ggplot2)"
   ]
  },
  {
   "cell_type": "code",
   "execution_count": 161,
   "id": "d4edbe9c-39c9-4af5-9d28-2200138d93d5",
   "metadata": {
    "scrolled": true
   },
   "outputs": [],
   "source": [
    "# パッケージの動作を確認する\n",
    "library(AnnotationDbi)\n",
    "library(org.Hs.eg.db)\n",
    "library(ggplot2)"
   ]
  },
  {
   "cell_type": "code",
   "execution_count": 147,
   "id": "7fedf77c-5a4a-4f06-b3c6-47abb75e97f5",
   "metadata": {
    "scrolled": true
   },
   "outputs": [
    {
     "name": "stderr",
     "output_type": "stream",
     "text": [
      "'select()' returned 1:many mapping between keys and columns\n",
      "\n"
     ]
    },
    {
     "name": "stdout",
     "output_type": "stream",
     "text": [
      "          CD82 \n",
      "\"NM_001024844\" \n"
     ]
    }
   ],
   "source": [
    "# 変換したい遺伝子名のベクトルを定義\n",
    "gene_names <- c(\"CD82\")\n",
    "\n",
    "# 遺伝子名をRefSeq IDに変換\n",
    "refseq_ids <- mapIds(org.Hs.eg.db, keys = gene_names, column = \"REFSEQ\", keytype = \"SYMBOL\", multiVals = \"first\")\n",
    "\n",
    "# 結果を表示\n",
    "print(refseq_ids)"
   ]
  },
  {
   "cell_type": "markdown",
   "id": "6e6563db-bc82-478a-adac-a4c481da5b6e",
   "metadata": {},
   "source": [
    "この結果（refseq_id)をデータとして格納する。  \n",
    "refseq_idを使って/home/inou_doi/demo/2_igv/SRR7475873_selected_columns.txtと/home/inou_doi/demo/2_igv/SRR7475870_selected_columns.txtのファイルのnameの列から、該当する行のSUM_scoreを抽出する。  \n",
    "該当する数値は複数ある可能性がある。  \n",
    "二つのファイルから抽出されたSUM_scoreについて、バープロットを行う。その際のグラフの名前は遺伝子名とする。例）KLF2、EGR2、IL2"
   ]
  },
  {
   "cell_type": "code",
   "execution_count": 148,
   "id": "b885c524-cc4b-4249-8e9c-c2f10a82ea1c",
   "metadata": {},
   "outputs": [],
   "source": [
    "# 結果をデータとして格納\n",
    "refseq_ids <- as.character(refseq_ids)"
   ]
  },
  {
   "cell_type": "code",
   "execution_count": 149,
   "id": "9c0804c6-68ce-4238-ad97-a8394b5a5e98",
   "metadata": {},
   "outputs": [
    {
     "name": "stdout",
     "output_type": "stream",
     "text": [
      "[1] \"NM_001024844\"\n"
     ]
    }
   ],
   "source": [
    "#　格納されたデータを確認する\n",
    "print(refseq_ids)"
   ]
  },
  {
   "cell_type": "code",
   "execution_count": 150,
   "id": "17db0f93-214a-4d41-932e-e75180f394b5",
   "metadata": {},
   "outputs": [],
   "source": [
    "# ファイルパスを定義\n",
    "file1 <- \"/home/inou_doi/demo/2_igv/SRR7475870_selected_columns.txt\"\n",
    "file2 <- \"/home/inou_doi/demo/2_igv/SRR7475873_selected_columns.txt\""
   ]
  },
  {
   "cell_type": "code",
   "execution_count": 154,
   "id": "d41b3190-9b84-4309-8656-73becbff876f",
   "metadata": {},
   "outputs": [],
   "source": [
    "# ファイルからSUM_scoreを抽出する関数を定義\n",
    "extract_sum_score <- function(file_path, refseq_ids) {\n",
    "  data <- read.table(file_path, header = TRUE, sep = \"\\t\")\n",
    "  scores <- sapply(refseq_ids, function(id) {\n",
    "    matched_rows <- grep(id, data$name)\n",
    "    if (length(matched_rows) > 0) {\n",
    "      return(data[matched_rows, \"SUM_score\"])\n",
    "    } else {\n",
    "      return(NA)\n",
    "    }\n",
    "  })\n",
    "  return(scores)\n",
    "}"
   ]
  },
  {
   "cell_type": "code",
   "execution_count": 155,
   "id": "7f463b91-1320-4541-9d8e-864baf7b7268",
   "metadata": {},
   "outputs": [],
   "source": [
    "# 各ファイルからSUM_scoreを抽出\n",
    "scores1 <- extract_sum_score(file1, refseq_ids)\n",
    "scores2 <- extract_sum_score(file2, refseq_ids)"
   ]
  },
  {
   "cell_type": "code",
   "execution_count": 156,
   "id": "788a5e94-8c0b-4466-9c92-ae4f0bc94bf7",
   "metadata": {},
   "outputs": [
    {
     "name": "stdout",
     "output_type": "stream",
     "text": [
      "NM_001024844 \n",
      "    1473.552 \n",
      "NM_001024844 \n",
      "    2130.018 \n"
     ]
    }
   ],
   "source": [
    "# 抽出されたSUM_scoreを表示\n",
    "print(scores1)\n",
    "print(scores2)"
   ]
  },
  {
   "cell_type": "code",
   "execution_count": 164,
   "id": "f94f193b-84ab-4157-a5f6-1fe8ab9b28e2",
   "metadata": {},
   "outputs": [
    {
     "data": {
      "image/png": "[encoded data removed]",
      "text/plain": [
       "plot without title"
      ]
     },
     "metadata": {
      "image/png": {
       "height": 420,
       "width": 420
      }
     },
     "output_type": "display_data"
    }
   ],
   "source": [
    "# データフレームを作成\n",
    "if (length(scores1) > 0 & length(scores2) > 0) {\n",
    "  df <- data.frame(\n",
    "    Gene = rep(gene_names, each = 2),\n",
    "    File = rep(c(\"naive\", \"5h_activated\"), times = length(gene_names)),\n",
    "    SUM_score = c(scores1, scores2)\n",
    "  )\n",
    "\n",
    "  # バープロットを作成\n",
    "  ggplot(df, aes(x = Gene, y = SUM_score, fill = File)) +\n",
    "    geom_bar(stat = \"identity\", position = \"dodge\") +\n",
    "    labs(title = \"SUM_score for each gene\", x = \"Gene\", y = \"SUM_score\") +\n",
    "    theme_minimal()\n",
    "} else {\n",
    "  print(\"One or both of the score vectors are empty. Please check the input files and RefSeq IDs.\")\n",
    "}"
   ]
  },
  {
   "cell_type": "markdown",
   "id": "d558c9cc-bb10-4bbd-b0bd-f0fc2aefeb56",
   "metadata": {
    "jp-MarkdownHeadingCollapsed": true
   },
   "source": [
    "### 複数の遺伝子名についてのバープロット"
   ]
  },
  {
   "cell_type": "markdown",
   "id": "c2785846-e674-4567-8190-cefc199030d6",
   "metadata": {},
   "source": [
    "複数の遺伝子について比較検討したい際には、以下の方法で一度に解析することができる。"
   ]
  },
  {
   "cell_type": "code",
   "execution_count": 194,
   "id": "bf818ed6-3e45-4a79-9697-6a7f9f2933e0",
   "metadata": {},
   "outputs": [
    {
     "name": "stderr",
     "output_type": "stream",
     "text": [
      "'select()' returned 1:many mapping between keys and columns\n",
      "\n"
     ]
    },
    {
     "name": "stdout",
     "output_type": "stream",
     "text": [
      "       KLF2        EGR2         IL2 \n",
      "\"NM_006075\" \"NM_000399\" \"NM_000586\" \n",
      "[1] \"NM_006075\" \"NM_000399\" \"NM_000586\"\n"
     ]
    }
   ],
   "source": [
    "# 変換したい遺伝子名のベクトルを定義\n",
    "gene_names <- c(\"KLF2\", \"EGR2\", \"IL2\")\n",
    "\n",
    "# 遺伝子名をRefSeq IDに変換\n",
    "refseq_ids <- mapIds(org.Hs.eg.db, keys = gene_names, column = \"REFSEQ\", keytype = \"SYMBOL\", multiVals = \"first\")\n",
    "\n",
    "# 結果を表示\n",
    "print(refseq_ids)\n",
    "\n",
    "# 結果をデータとして格納\n",
    "refseq_ids <- as.character(refseq_ids)\n",
    "\n",
    "print(refseq_ids)\n",
    "\n",
    "# ファイルパスを定義\n",
    "file1 <- \"/home/inou_doi/demo/2_igv/SRR7475870_selected_columns.txt\"\n",
    "file2 <- \"/home/inou_doi/demo/2_igv/SRR7475873_selected_columns.txt\""
   ]
  },
  {
   "cell_type": "code",
   "execution_count": 195,
   "id": "673195f0-f638-4a23-8a16-9586c7b8579b",
   "metadata": {},
   "outputs": [],
   "source": [
    "# ファイルからSUM_scoreを抽出する関数を定義（部分一致を使用）\n",
    "extract_sum_score <- function(file_path, refseq_ids) {\n",
    "  data <- read.table(file_path, header = TRUE, sep = \"\\t\")\n",
    "  scores <- sapply(refseq_ids, function(id) {\n",
    "    matched_rows <- grep(id, data$name)\n",
    "    if (length(matched_rows) > 0) {\n",
    "      return(data[matched_rows, \"SUM_score\"])\n",
    "    } else {\n",
    "      return(NA)\n",
    "    }\n",
    "  })\n",
    "  return(scores)\n",
    "}"
   ]
  },
  {
   "cell_type": "code",
   "execution_count": 196,
   "id": "0997ede6-247d-46c9-a841-ecebea6a42d5",
   "metadata": {},
   "outputs": [],
   "source": [
    "# 各ファイルからSUM_scoreを抽出\n",
    "scores1 <- extract_sum_score(file1, refseq_ids)\n",
    "scores2 <- extract_sum_score(file2, refseq_ids)"
   ]
  },
  {
   "cell_type": "code",
   "execution_count": 197,
   "id": "3d1fb1f1-a0e5-47bc-bc9c-25bdcc54cc30",
   "metadata": {},
   "outputs": [
    {
     "name": "stdout",
     "output_type": "stream",
     "text": [
      "NM_006075 NM_000399 NM_000586 \n",
      "       NA 1737.6673  240.1784 \n",
      "NM_006075 NM_000399 NM_000586 \n",
      "       NA  4091.240   772.579 \n"
     ]
    }
   ],
   "source": [
    "# 抽出されたSUM_scoreを表示\n",
    "print(scores1)\n",
    "print(scores2)"
   ]
  },
  {
   "cell_type": "code",
   "execution_count": 210,
   "id": "f2acd3b5-9ad9-4ca6-91ef-ce64bb8f1dc0",
   "metadata": {},
   "outputs": [],
   "source": [
    "# 両方のスコアがNAである遺伝子を除外\n",
    "valid_indices <- !(is.na(scores1) & is.na(scores2))\n",
    "valid_gene_names <- gene_names[valid_indices]\n",
    "valid_scores1 <- scores1[valid_indices]\n",
    "valid_scores2 <- scores2[valid_indices]"
   ]
  },
  {
   "cell_type": "code",
   "execution_count": 211,
   "id": "44b2f916-a60d-44e8-a13c-855c33e59583",
   "metadata": {},
   "outputs": [
    {
     "name": "stdout",
     "output_type": "stream",
     "text": [
      "NM_006075 NM_000399 NM_000586 \n",
      "       NA 1737.6673  240.1784 \n",
      "NM_006075 NM_000399 NM_000586 \n",
      "       NA  4091.240   772.579 \n"
     ]
    }
   ],
   "source": [
    "# 抽出されたSUM_scoreを表示\n",
    "print(scores1)\n",
    "print(scores2)"
   ]
  },
  {
   "cell_type": "code",
   "execution_count": 212,
   "id": "d35a5930-3f87-4611-b1d7-292f70e4fee7",
   "metadata": {},
   "outputs": [],
   "source": [
    "# データフレームを作成\n",
    "df <- data.frame(\n",
    "  Gene = rep(valid_gene_names, each = 2),\n",
    "  File = rep(c(\"naive\", \"5h_activated\"), times = length(valid_gene_names)),\n",
    "  SUM_score = c(as.numeric(valid_scores1), as.numeric(valid_scores2))\n",
    ")"
   ]
  },
  {
   "cell_type": "code",
   "execution_count": 213,
   "id": "09a5ab99-b18b-4a8a-b354-5219e0b5c24c",
   "metadata": {},
   "outputs": [
    {
     "name": "stdout",
     "output_type": "stream",
     "text": [
      "  Gene         File SUM_score\n",
      "1 EGR2        naive 1737.6673\n",
      "2 EGR2 5h_activated  240.1784\n",
      "3  IL2        naive 4091.2400\n",
      "4  IL2 5h_activated  772.5790\n"
     ]
    }
   ],
   "source": [
    "# データフレームの内容を表示\n",
    "print(df)"
   ]
  },
  {
   "cell_type": "code",
   "execution_count": 214,
   "id": "87dcbd87-830b-4add-b958-8fe049a32f9d",
   "metadata": {},
   "outputs": [
    {
     "data": {
      "image/png": "[encoded data removed]",
      "text/plain": [
       "plot without title"
      ]
     },
     "metadata": {
      "image/png": {
       "height": 420,
       "width": 420
      }
     },
     "output_type": "display_data"
    }
   ],
   "source": [
    "# バープロットを作成\n",
    "ggplot(df, aes(x = Gene, y = SUM_score, fill = File)) +\n",
    "  geom_bar(stat = \"identity\", position = \"dodge\") +\n",
    "  labs(title = \"SUM_score for each gene\", x = \"Gene\", y = \"SUM_score\") +\n",
    "  theme_minimal()"
   ]
  }
 ],
 "metadata": {
  "kernelspec": {
   "display_name": "8_peak_analysis_R",
   "language": "R",
   "name": "8_peak"
  },
  "language_info": {
   "codemirror_mode": "r",
   "file_extension": ".r",
   "mimetype": "text/x-r-source",
   "name": "R",
   "pygments_lexer": "r",
   "version": "4.3.2"
  }
 },
 "nbformat": 4,
 "nbformat_minor": 5
}
